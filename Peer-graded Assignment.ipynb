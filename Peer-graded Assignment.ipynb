{
 "cells": [
  {
   "cell_type": "markdown",
   "id": "2156538c-569e-4398-afc8-752c3938cfcb",
   "metadata": {},
   "source": [
    "# My Jupyter Notebook on IBM Watson Studio"
   ]
  },
  {
   "cell_type": "markdown",
   "id": "6ea17252-58e1-46cc-ba2b-5d183b3ce814",
   "metadata": {},
   "source": [
    "**Hadi mohammadian**\n",
    "> i want be data science in big company"
   ]
  },
  {
   "cell_type": "markdown",
   "id": "fe81d2ad-ca76-4291-bc40-c39f5758c902",
   "metadata": {},
   "source": [
    "*I am interested in data science because data science is top of subject in IT world and after learn it i can solve most of problems that has around me and at the final i can have more salary compare to another fields of IT*"
   ]
  },
  {
   "cell_type": "markdown",
   "id": "a9dd528d-2a95-42eb-aded-e1d7d1b68238",
   "metadata": {},
   "source": [
    "### my code is cpomute 1+1 and displayed it here"
   ]
  },
  {
   "cell_type": "code",
   "execution_count": 1,
   "id": "f19d6e20-978b-4ff9-a258-6d28e06a99ed",
   "metadata": {},
   "outputs": [
    {
     "name": "stdout",
     "output_type": "stream",
     "text": [
      "2\n"
     ]
    }
   ],
   "source": [
    "print(1+1)"
   ]
  },
  {
   "cell_type": "markdown",
   "id": "70a29f5b-d40c-459d-8608-16b1b51f6597",
   "metadata": {},
   "source": [
    "#### horizontal rule, bulleted list, numbered list, tables, hyperlinks, images, code/syntax highlighting, blocked quotes, strikethrough.\n",
    "\n",
    "**horizontal rule**\n",
    "\n",
    "-----\n",
    "\n",
    "\n",
    "**bulleted list**\n",
    "\n",
    "* first\n",
    "* second\n",
    "\n",
    "\n",
    "**numbered list**\n",
    "\n",
    "1. first\n",
    "2. second\n",
    "\n",
    "\n",
    "\n",
    "**tables**\n",
    "\n",
    "| name        | age           | phone  |\n",
    "| ------------- |:-------------:| -----:|\n",
    "| Jack     | 20 | 95855221222 |\n",
    "| sara      | 25      |   95855226662 |\n",
    "\n",
    "\n",
    "\n",
    " **hyperlinks**\n",
    " \n",
    " \n",
    " [IBM](https://www.ibm.com)\n",
    " \n",
    " \n",
    " \n",
    " **images**\n",
    " \n",
    " \n",
    " Home page: \n",
    "![alt text](https://1.cms.s81c.com/sites/default/files/2022-11-16/XLG%20-%20IBM%20Consulting%20-%20Overview.jpg \"Créer un impact plus rapidement\")\n",
    "\n",
    "\n",
    "\n",
    "\n",
    "**code/syntax highlighting**\n",
    "`# dispaly s in console`\n",
    "```python\n",
    "s = \"Python syntax highlighting\"\n",
    "print s\n",
    "\n",
    "\n",
    "```\n",
    "\n",
    "\n",
    "\n",
    "** blocked quotes**\n",
    "\n",
    "> Blockquotes are very handy in email to emulate reply text.\n",
    ">> This line is part of the same quote.\n",
    "\n",
    "\n",
    "\n",
    "**strikethrough**\n",
    "\n",
    "\n",
    "~~Strikethrough ~~"
   ]
  },
  {
   "cell_type": "code",
   "execution_count": null,
   "id": "26eaaac8-9e5b-49eb-863b-dafee299d862",
   "metadata": {},
   "outputs": [],
   "source": []
  }
 ],
 "metadata": {
  "kernelspec": {
   "display_name": "Python",
   "language": "python",
   "name": "conda-env-python-py"
  },
  "language_info": {
   "codemirror_mode": {
    "name": "ipython",
    "version": 3
   },
   "file_extension": ".py",
   "mimetype": "text/x-python",
   "name": "python",
   "nbconvert_exporter": "python",
   "pygments_lexer": "ipython3",
   "version": "3.7.12"
  }
 },
 "nbformat": 4,
 "nbformat_minor": 5
}
